{
 "cells": [
  {
   "cell_type": "markdown",
   "id": "7142bb08",
   "metadata": {},
   "source": [
    "# Лабораторная работа № 2. Выполнил Гришин Степан"
   ]
  },
  {
   "cell_type": "code",
   "execution_count": 62,
   "id": "30dc4fd4",
   "metadata": {},
   "outputs": [],
   "source": [
    "import pandas as pd\n",
    "import numpy as np\n",
    "import seaborn as sns\n",
    "from matplotlib import pyplot"
   ]
  },
  {
   "cell_type": "markdown",
   "id": "f39e9ef3",
   "metadata": {},
   "source": [
    "Импортируем данные"
   ]
  },
  {
   "cell_type": "code",
   "execution_count": 2,
   "id": "f8b29756",
   "metadata": {},
   "outputs": [],
   "source": [
    "data = pd.read_csv('desktop/CompanyABCprofit.csv')"
   ]
  },
  {
   "cell_type": "markdown",
   "id": "4c1b712e",
   "metadata": {},
   "source": [
    "Данные отображают доходность некоторой компании в зависимости от года в некоторой валюте"
   ]
  },
  {
   "cell_type": "code",
   "execution_count": 3,
   "id": "c062af6e",
   "metadata": {},
   "outputs": [
    {
     "data": {
      "text/html": [
       "<div>\n",
       "<style scoped>\n",
       "    .dataframe tbody tr th:only-of-type {\n",
       "        vertical-align: middle;\n",
       "    }\n",
       "\n",
       "    .dataframe tbody tr th {\n",
       "        vertical-align: top;\n",
       "    }\n",
       "\n",
       "    .dataframe thead th {\n",
       "        text-align: right;\n",
       "    }\n",
       "</style>\n",
       "<table border=\"1\" class=\"dataframe\">\n",
       "  <thead>\n",
       "    <tr style=\"text-align: right;\">\n",
       "      <th></th>\n",
       "      <th>Year</th>\n",
       "      <th>Profit(Rs '000)</th>\n",
       "    </tr>\n",
       "  </thead>\n",
       "  <tbody>\n",
       "    <tr>\n",
       "      <th>0</th>\n",
       "      <td>1821</td>\n",
       "      <td>1645</td>\n",
       "    </tr>\n",
       "    <tr>\n",
       "      <th>1</th>\n",
       "      <td>1822</td>\n",
       "      <td>658</td>\n",
       "    </tr>\n",
       "    <tr>\n",
       "      <th>2</th>\n",
       "      <td>1823</td>\n",
       "      <td>1926</td>\n",
       "    </tr>\n",
       "    <tr>\n",
       "      <th>3</th>\n",
       "      <td>1824</td>\n",
       "      <td>865</td>\n",
       "    </tr>\n",
       "    <tr>\n",
       "      <th>4</th>\n",
       "      <td>1825</td>\n",
       "      <td>764</td>\n",
       "    </tr>\n",
       "    <tr>\n",
       "      <th>...</th>\n",
       "      <td>...</td>\n",
       "      <td>...</td>\n",
       "    </tr>\n",
       "    <tr>\n",
       "      <th>195</th>\n",
       "      <td>2016</td>\n",
       "      <td>988</td>\n",
       "    </tr>\n",
       "    <tr>\n",
       "      <th>196</th>\n",
       "      <td>2017</td>\n",
       "      <td>895</td>\n",
       "    </tr>\n",
       "    <tr>\n",
       "      <th>197</th>\n",
       "      <td>2018</td>\n",
       "      <td>-178</td>\n",
       "    </tr>\n",
       "    <tr>\n",
       "      <th>198</th>\n",
       "      <td>2019</td>\n",
       "      <td>543</td>\n",
       "    </tr>\n",
       "    <tr>\n",
       "      <th>199</th>\n",
       "      <td>2020</td>\n",
       "      <td>316</td>\n",
       "    </tr>\n",
       "  </tbody>\n",
       "</table>\n",
       "<p>200 rows × 2 columns</p>\n",
       "</div>"
      ],
      "text/plain": [
       "     Year  Profit(Rs '000)\n",
       "0    1821             1645\n",
       "1    1822              658\n",
       "2    1823             1926\n",
       "3    1824              865\n",
       "4    1825              764\n",
       "..    ...              ...\n",
       "195  2016              988\n",
       "196  2017              895\n",
       "197  2018             -178\n",
       "198  2019              543\n",
       "199  2020              316\n",
       "\n",
       "[200 rows x 2 columns]"
      ]
     },
     "execution_count": 3,
     "metadata": {},
     "output_type": "execute_result"
    }
   ],
   "source": [
    "data"
   ]
  },
  {
   "cell_type": "markdown",
   "id": "9bf00fd6",
   "metadata": {},
   "source": [
    "Поменяем название столбца"
   ]
  },
  {
   "cell_type": "code",
   "execution_count": 16,
   "id": "7ae06a6c",
   "metadata": {},
   "outputs": [],
   "source": [
    "data.rename(columns = {\"Profit(Rs '000)\": 'Profit'}, inplace = True)"
   ]
  },
  {
   "cell_type": "markdown",
   "id": "56409e45",
   "metadata": {},
   "source": [
    "Посмотрим на распределение"
   ]
  },
  {
   "cell_type": "code",
   "execution_count": 30,
   "id": "aacc7fc9",
   "metadata": {},
   "outputs": [
    {
     "data": {
      "text/plain": [
       "<AxesSubplot:xlabel='Profit', ylabel='Density'>"
      ]
     },
     "execution_count": 30,
     "metadata": {},
     "output_type": "execute_result"
    },
    {
     "data": {
      "image/png": "[encoded data removed]",
      "text/plain": [
       "<Figure size 432x288 with 1 Axes>"
      ]
     },
     "metadata": {
      "needs_background": "light"
     },
     "output_type": "display_data"
    }
   ],
   "source": [
    "data['Profit'].hist(bins = 50)"
   ]
  },
  {
   "cell_type": "markdown",
   "id": "0d139525",
   "metadata": {},
   "source": [
    "Изобразим распределение с аппроксимацией"
   ]
  },
  {
   "cell_type": "code",
   "execution_count": 34,
   "id": "5c15ea1d",
   "metadata": {},
   "outputs": [
    {
     "data": {
      "text/plain": [
       "<AxesSubplot:xlabel='Profit', ylabel='Count'>"
      ]
     },
     "execution_count": 34,
     "metadata": {},
     "output_type": "execute_result"
    },
    {
     "data": {
      "image/png": "[encoded data removed]",
      "text/plain": [
       "<Figure size 432x288 with 1 Axes>"
      ]
     },
     "metadata": {
      "needs_background": "light"
     },
     "output_type": "display_data"
    }
   ],
   "source": [
    "sns.histplot(data['Profit'], kde = True)"
   ]
  },
  {
   "cell_type": "markdown",
   "id": "e967cb70",
   "metadata": {},
   "source": [
    "Загрузим нормальное распределение из предыдущей работы"
   ]
  },
  {
   "cell_type": "code",
   "execution_count": 32,
   "id": "1ae1d735",
   "metadata": {},
   "outputs": [],
   "source": [
    "d = pd.read_csv('Desktop/customer_churn_data.csv')"
   ]
  },
  {
   "cell_type": "markdown",
   "id": "12e08a45",
   "metadata": {},
   "source": [
    "Посмотрим на него"
   ]
  },
  {
   "cell_type": "code",
   "execution_count": 36,
   "id": "b0fe7ab6",
   "metadata": {},
   "outputs": [
    {
     "data": {
      "text/plain": [
       "<AxesSubplot:xlabel='Age', ylabel='Count'>"
      ]
     },
     "execution_count": 36,
     "metadata": {},
     "output_type": "execute_result"
    },
    {
     "data": {
      "image/png": "[encoded data removed]",
      "text/plain": [
       "<Figure size 432x288 with 1 Axes>"
      ]
     },
     "metadata": {
      "needs_background": "light"
     },
     "output_type": "display_data"
    }
   ],
   "source": [
    "ax = sns.histplot(d, x = \"Age\", kde=True)\n",
    "ax"
   ]
  },
  {
   "cell_type": "markdown",
   "id": "1cab3ebb",
   "metadata": {},
   "source": [
    "Создадим таблицу, в которой будут указаны параметры"
   ]
  },
  {
   "cell_type": "code",
   "execution_count": 47,
   "id": "5882f2a9",
   "metadata": {},
   "outputs": [
    {
     "data": {
      "text/html": [
       "<div>\n",
       "<style scoped>\n",
       "    .dataframe tbody tr th:only-of-type {\n",
       "        vertical-align: middle;\n",
       "    }\n",
       "\n",
       "    .dataframe tbody tr th {\n",
       "        vertical-align: top;\n",
       "    }\n",
       "\n",
       "    .dataframe thead th {\n",
       "        text-align: right;\n",
       "    }\n",
       "</style>\n",
       "<table border=\"1\" class=\"dataframe\">\n",
       "  <thead>\n",
       "    <tr style=\"text-align: right;\">\n",
       "      <th></th>\n",
       "      <th>Распределения</th>\n",
       "      <th>Матожидание</th>\n",
       "      <th>Дисперсия</th>\n",
       "      <th>Ассиметрия</th>\n",
       "      <th>Эксцесс</th>\n",
       "      <th>Квантиль 0.05</th>\n",
       "      <th>Квантиль 0.95</th>\n",
       "      <th>Квантиль 0.025</th>\n",
       "    </tr>\n",
       "  </thead>\n",
       "  <tbody>\n",
       "    <tr>\n",
       "      <th>0</th>\n",
       "      <td>Близкое к нормальному 1 лр</td>\n",
       "      <td>44.674</td>\n",
       "      <td>95.899724</td>\n",
       "      <td>0.110433</td>\n",
       "      <td>0.057401</td>\n",
       "      <td>29.0</td>\n",
       "      <td>61.0</td>\n",
       "      <td>26.0</td>\n",
       "    </tr>\n",
       "    <tr>\n",
       "      <th>1</th>\n",
       "      <td>Близкое к нормальному 2 лр</td>\n",
       "      <td>1021.990</td>\n",
       "      <td>236910.189900</td>\n",
       "      <td>-0.127933</td>\n",
       "      <td>-0.076597</td>\n",
       "      <td>203.4</td>\n",
       "      <td>1898.2</td>\n",
       "      <td>60.7</td>\n",
       "    </tr>\n",
       "  </tbody>\n",
       "</table>\n",
       "</div>"
      ],
      "text/plain": [
       "                Распределения  Матожидание      Дисперсия  Ассиметрия  \\\n",
       "0  Близкое к нормальному 1 лр       44.674      95.899724    0.110433   \n",
       "1  Близкое к нормальному 2 лр     1021.990  236910.189900   -0.127933   \n",
       "\n",
       "    Эксцесс  Квантиль 0.05  Квантиль 0.95  Квантиль 0.025  \n",
       "0  0.057401           29.0           61.0            26.0  \n",
       "1 -0.076597          203.4         1898.2            60.7  "
      ]
     },
     "execution_count": 47,
     "metadata": {},
     "output_type": "execute_result"
    }
   ],
   "source": [
    "from scipy.stats import skew\n",
    "import scipy\n",
    "d1 = {\"Распределения\":[\"Близкое к нормальному 1 лр\",\"Близкое к нормальному 2 лр\"], \"Матожидание\":[d['Age'].mean(), data['Profit'].mean()],\n",
    "     \"Дисперсия\": [np.var(d['Age']), np.var(data['Profit'])],\"Ассиметрия\":[skew(d['Age']), skew(data['Profit'])], \"Эксцесс\": [scipy.stats.kurtosis(d['Age']),scipy.stats.kurtosis(data['Profit']) ],\n",
    "     \"Квантиль 0.05\":[d['Age'].quantile(0.05),data['Profit'].quantile(0.05)],\"Квантиль 0.95\": [d['Age'].quantile(0.95),data['Profit'].quantile(0.95)],\"Квантиль 0.025\": [d['Age'].quantile(0.025),data['Profit'].quantile(0.025)]}\n",
    "\n",
    "dd = pd.DataFrame(d1)\n",
    "dd"
   ]
  },
  {
   "cell_type": "markdown",
   "id": "5acfd82c",
   "metadata": {},
   "source": [
    "Сгенерируем нормальное распределение, с параметрами нашего распределения"
   ]
  },
  {
   "cell_type": "code",
   "execution_count": 53,
   "id": "f4a992d6",
   "metadata": {},
   "outputs": [],
   "source": [
    "raspr = np.random.normal(loc = data['Profit'].mean(), scale = np.sqrt(np.var(data['Profit'])),size = 1000 )\n"
   ]
  },
  {
   "cell_type": "markdown",
   "id": "b02df1cf",
   "metadata": {},
   "source": [
    "Построим его и сравним с оригиналом"
   ]
  },
  {
   "cell_type": "code",
   "execution_count": 61,
   "id": "13821631",
   "metadata": {},
   "outputs": [
    {
     "data": {
      "text/plain": [
       "<AxesSubplot:xlabel='Profit', ylabel='Count'>"
      ]
     },
     "execution_count": 61,
     "metadata": {},
     "output_type": "execute_result"
    },
    {
     "data": {
      "image/png": "[encoded data removed]",
      "text/plain": [
       "<Figure size 432x288 with 1 Axes>"
      ]
     },
     "metadata": {
      "needs_background": "light"
     },
     "output_type": "display_data"
    }
   ],
   "source": [
    "sns.histplot(raspr, kde = True)\n",
    "sns.histplot(data, x = \"Profit\", kde=True, color = \"r\")\n"
   ]
  },
  {
   "cell_type": "markdown",
   "id": "ef9dd927",
   "metadata": {},
   "source": [
    "Данные распределения похожи, но не равны, так как в сгенерированной выборке данных больше, чем в исходной, поэтому сгенерированное распределение больше исходного."
   ]
  }
 ],
 "metadata": {
  "kernelspec": {
   "display_name": "Python 3",
   "language": "python",
   "name": "python3"
  },
  "language_info": {
   "codemirror_mode": {
    "name": "ipython",
    "version": 3
   },
   "file_extension": ".py",
   "mimetype": "text/x-python",
   "name": "python",
   "nbconvert_exporter": "python",
   "pygments_lexer": "ipython3",
   "version": "3.8.8"
  }
 },
 "nbformat": 4,
 "nbformat_minor": 5
}
