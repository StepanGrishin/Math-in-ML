{
 "cells": [
  {
   "cell_type": "markdown",
   "id": "deb79cfa",
   "metadata": {},
   "source": [
    "# Лабораторная работа 3. Выполнил Гришин Степан"
   ]
  },
  {
   "cell_type": "code",
   "execution_count": 90,
   "id": "d39b1d42",
   "metadata": {},
   "outputs": [],
   "source": [
    "import pandas as pd\n",
    "from matplotlib.pyplot import plot as plt"
   ]
  },
  {
   "cell_type": "code",
   "execution_count": 2,
   "id": "3d9cf1e1",
   "metadata": {},
   "outputs": [],
   "source": [
    "dt = pd.read_csv(\"Desktop\\Fish[1].csv\")"
   ]
  },
  {
   "cell_type": "markdown",
   "id": "d36b75f9",
   "metadata": {},
   "source": [
    "# Задание 1"
   ]
  },
  {
   "cell_type": "code",
   "execution_count": 4,
   "id": "d167af9f",
   "metadata": {},
   "outputs": [],
   "source": [
    "dt = dt[['Weight', 'Height']]"
   ]
  },
  {
   "cell_type": "markdown",
   "id": "4b615d72",
   "metadata": {},
   "source": [
    "Данный датафрейм посвящен зависимости веса рыбы от ее длины"
   ]
  },
  {
   "cell_type": "code",
   "execution_count": 5,
   "id": "34cb5614",
   "metadata": {},
   "outputs": [
    {
     "data": {
      "text/html": [
       "<div>\n",
       "<style scoped>\n",
       "    .dataframe tbody tr th:only-of-type {\n",
       "        vertical-align: middle;\n",
       "    }\n",
       "\n",
       "    .dataframe tbody tr th {\n",
       "        vertical-align: top;\n",
       "    }\n",
       "\n",
       "    .dataframe thead th {\n",
       "        text-align: right;\n",
       "    }\n",
       "</style>\n",
       "<table border=\"1\" class=\"dataframe\">\n",
       "  <thead>\n",
       "    <tr style=\"text-align: right;\">\n",
       "      <th></th>\n",
       "      <th>Weight</th>\n",
       "      <th>Height</th>\n",
       "    </tr>\n",
       "  </thead>\n",
       "  <tbody>\n",
       "    <tr>\n",
       "      <th>0</th>\n",
       "      <td>242.0</td>\n",
       "      <td>11.5200</td>\n",
       "    </tr>\n",
       "    <tr>\n",
       "      <th>1</th>\n",
       "      <td>290.0</td>\n",
       "      <td>12.4800</td>\n",
       "    </tr>\n",
       "    <tr>\n",
       "      <th>2</th>\n",
       "      <td>340.0</td>\n",
       "      <td>12.3778</td>\n",
       "    </tr>\n",
       "    <tr>\n",
       "      <th>3</th>\n",
       "      <td>363.0</td>\n",
       "      <td>12.7300</td>\n",
       "    </tr>\n",
       "    <tr>\n",
       "      <th>4</th>\n",
       "      <td>430.0</td>\n",
       "      <td>12.4440</td>\n",
       "    </tr>\n",
       "    <tr>\n",
       "      <th>...</th>\n",
       "      <td>...</td>\n",
       "      <td>...</td>\n",
       "    </tr>\n",
       "    <tr>\n",
       "      <th>154</th>\n",
       "      <td>12.2</td>\n",
       "      <td>2.0904</td>\n",
       "    </tr>\n",
       "    <tr>\n",
       "      <th>155</th>\n",
       "      <td>13.4</td>\n",
       "      <td>2.4300</td>\n",
       "    </tr>\n",
       "    <tr>\n",
       "      <th>156</th>\n",
       "      <td>12.2</td>\n",
       "      <td>2.2770</td>\n",
       "    </tr>\n",
       "    <tr>\n",
       "      <th>157</th>\n",
       "      <td>19.7</td>\n",
       "      <td>2.8728</td>\n",
       "    </tr>\n",
       "    <tr>\n",
       "      <th>158</th>\n",
       "      <td>19.9</td>\n",
       "      <td>2.9322</td>\n",
       "    </tr>\n",
       "  </tbody>\n",
       "</table>\n",
       "<p>159 rows × 2 columns</p>\n",
       "</div>"
      ],
      "text/plain": [
       "     Weight   Height\n",
       "0     242.0  11.5200\n",
       "1     290.0  12.4800\n",
       "2     340.0  12.3778\n",
       "3     363.0  12.7300\n",
       "4     430.0  12.4440\n",
       "..      ...      ...\n",
       "154    12.2   2.0904\n",
       "155    13.4   2.4300\n",
       "156    12.2   2.2770\n",
       "157    19.7   2.8728\n",
       "158    19.9   2.9322\n",
       "\n",
       "[159 rows x 2 columns]"
      ]
     },
     "execution_count": 5,
     "metadata": {},
     "output_type": "execute_result"
    }
   ],
   "source": [
    "dt"
   ]
  },
  {
   "cell_type": "markdown",
   "id": "73621f0d",
   "metadata": {},
   "source": [
    "Посмотрим на коэф. корреляции"
   ]
  },
  {
   "cell_type": "code",
   "execution_count": 86,
   "id": "35849afa",
   "metadata": {},
   "outputs": [
    {
     "data": {
      "text/plain": [
       "0.7243453291993315"
      ]
     },
     "execution_count": 86,
     "metadata": {},
     "output_type": "execute_result"
    }
   ],
   "source": [
    "r = dt['Weight'].corr(dt['Height'])\n",
    "r"
   ]
  },
  {
   "cell_type": "markdown",
   "id": "90982fa9",
   "metadata": {},
   "source": [
    "Видим, что имеется ощутимая корреляция. Посмотрим на диаграмму рассеяния"
   ]
  },
  {
   "cell_type": "code",
   "execution_count": 16,
   "id": "2c7b862c",
   "metadata": {},
   "outputs": [
    {
     "name": "stderr",
     "output_type": "stream",
     "text": [
      "C:\\Users\\grish\\anaconda3\\lib\\site-packages\\seaborn\\_decorators.py:36: FutureWarning: Pass the following variables as keyword args: x, y. From version 0.12, the only valid positional argument will be `data`, and passing other arguments without an explicit keyword will result in an error or misinterpretation.\n",
      "  warnings.warn(\n"
     ]
    },
    {
     "data": {
      "text/plain": [
       "<AxesSubplot:xlabel='Weight', ylabel='Height'>"
      ]
     },
     "execution_count": 16,
     "metadata": {},
     "output_type": "execute_result"
    },
    {
     "data": {
      "image/png": "[encoded data removed]",
      "text/plain": [
       "<Figure size 432x288 with 1 Axes>"
      ]
     },
     "metadata": {
      "needs_background": "light"
     },
     "output_type": "display_data"
    }
   ],
   "source": [
    "import seaborn as sns\n",
    "sns.scatterplot(dt['Weight'], dt['Height'])"
   ]
  },
  {
   "cell_type": "markdown",
   "id": "6a784365",
   "metadata": {},
   "source": [
    "Видим, что имеется логарифмическая зависимость, однако, посмроим линейную."
   ]
  },
  {
   "cell_type": "code",
   "execution_count": 92,
   "id": "5d63b6eb",
   "metadata": {},
   "outputs": [
    {
     "name": "stdout",
     "output_type": "stream",
     "text": [
      "(R^2): 0.5247. Коэффициент корреляции в квадрате: 0.5247\n"
     ]
    }
   ],
   "source": [
    "from sklearn.linear_model import LinearRegression\n",
    "model = LinearRegression()\n",
    "model.fit(dt[['Weight']], dt[['Height']])\n",
    "y = model.predict(dt[['Weight']])\n",
    "r_squared = model.score(dt[['Weight']], dt[['Height']])\n",
    "print(f\"(R^2): {round(r_squared, 4)}. Коэффициент корреляции в квадрате: {round(r**2, 4)}\")"
   ]
  },
  {
   "cell_type": "markdown",
   "id": "5b10bab0",
   "metadata": {},
   "source": [
    "Квадрат коэф. корреляции равен величине достоверности аппроксимации."
   ]
  },
  {
   "cell_type": "code",
   "execution_count": 91,
   "id": "89d1849a",
   "metadata": {},
   "outputs": [],
   "source": [
    "import numpy as np\n",
    "y = np.array(y).flatten()"
   ]
  },
  {
   "cell_type": "markdown",
   "id": "6dc7e723",
   "metadata": {},
   "source": [
    "Нарисуем график зависимости величин совместно с диаграммой рассеяния"
   ]
  },
  {
   "cell_type": "code",
   "execution_count": 58,
   "id": "3d9c298a",
   "metadata": {},
   "outputs": [
    {
     "name": "stderr",
     "output_type": "stream",
     "text": [
      "C:\\Users\\grish\\anaconda3\\lib\\site-packages\\seaborn\\_decorators.py:36: FutureWarning: Pass the following variables as keyword args: x, y. From version 0.12, the only valid positional argument will be `data`, and passing other arguments without an explicit keyword will result in an error or misinterpretation.\n",
      "  warnings.warn(\n",
      "C:\\Users\\grish\\anaconda3\\lib\\site-packages\\seaborn\\_decorators.py:36: FutureWarning: Pass the following variables as keyword args: x, y. From version 0.12, the only valid positional argument will be `data`, and passing other arguments without an explicit keyword will result in an error or misinterpretation.\n",
      "  warnings.warn(\n"
     ]
    },
    {
     "data": {
      "text/plain": [
       "<AxesSubplot:xlabel='Weight', ylabel='Height'>"
      ]
     },
     "execution_count": 58,
     "metadata": {},
     "output_type": "execute_result"
    },
    {
     "data": {
      "image/png": "[encoded data removed]",
      "text/plain": [
       "<Figure size 432x288 with 1 Axes>"
      ]
     },
     "metadata": {
      "needs_background": "light"
     },
     "output_type": "display_data"
    }
   ],
   "source": [
    "sns.scatterplot(dt['Weight'], dt['Height'], color='blue')\n",
    "sns.lineplot( dt['Weight'], y, color='red', label='Линия аппроксимации')\n"
   ]
  },
  {
   "cell_type": "markdown",
   "id": "5cda24fb",
   "metadata": {},
   "source": [
    "# Задание 2"
   ]
  },
  {
   "cell_type": "markdown",
   "id": "c71e56d4",
   "metadata": {},
   "source": [
    "Создадим случайную выборку, равную трети генеральной совокупности."
   ]
  },
  {
   "cell_type": "code",
   "execution_count": 61,
   "id": "1064b2bb",
   "metadata": {},
   "outputs": [],
   "source": [
    "smpl1 = dt.sample(frac = 0.33)"
   ]
  },
  {
   "cell_type": "markdown",
   "id": "d0923a5f",
   "metadata": {},
   "source": [
    "Создадим стратифицированную выборку на основе гистограммы"
   ]
  },
  {
   "cell_type": "code",
   "execution_count": 66,
   "id": "5496eb42",
   "metadata": {},
   "outputs": [
    {
     "data": {
      "text/plain": [
       "<AxesSubplot:>"
      ]
     },
     "execution_count": 66,
     "metadata": {},
     "output_type": "execute_result"
    },
    {
     "data": {
      "image/png": "[encoded data removed]",
      "text/plain": [
       "<Figure size 432x288 with 1 Axes>"
      ]
     },
     "metadata": {
      "needs_background": "light"
     },
     "output_type": "display_data"
    }
   ],
   "source": [
    "dt['Weight'].hist()"
   ]
  },
  {
   "cell_type": "markdown",
   "id": "045a0e60",
   "metadata": {},
   "source": [
    "Разделим рыбу по весу."
   ]
  },
  {
   "cell_type": "code",
   "execution_count": 67,
   "id": "de573e6f",
   "metadata": {},
   "outputs": [],
   "source": [
    "less_550 = dt[dt['Weight'] < 550]\n",
    "more_550 = dt[dt['Weight'] >= 550]\n"
   ]
  },
  {
   "cell_type": "markdown",
   "id": "69eb1c7c",
   "metadata": {},
   "source": [
    "Посчитаем среднее случ. выборки и ген. совокупности"
   ]
  },
  {
   "cell_type": "code",
   "execution_count": 72,
   "id": "e883b69f",
   "metadata": {},
   "outputs": [
    {
     "name": "stdout",
     "output_type": "stream",
     "text": [
      "Среднее случайной выборки =  9.292511538461536 \n",
      " Среднее генеральной совокупности =  8.970993710691822\n"
     ]
    }
   ],
   "source": [
    "print('Среднее случайной выборки = ', smpl1['Height'].mean(),'\\n' , 'Среднее генеральной совокупности = ', dt['Height'].mean())"
   ]
  },
  {
   "cell_type": "markdown",
   "id": "9a490b02",
   "metadata": {},
   "source": [
    "Видим, что среднее случ. выборки примерно равно среднему ген. совокупности"
   ]
  },
  {
   "cell_type": "markdown",
   "id": "2f8e4e20",
   "metadata": {},
   "source": [
    "# Задание 3"
   ]
  },
  {
   "cell_type": "code",
   "execution_count": 78,
   "id": "063680c0",
   "metadata": {},
   "outputs": [],
   "source": [
    "from scipy.stats import t\n",
    "import scipy\n",
    "import numpy as np\n",
    "\n",
    "def mean_confidence_interval(data, confidence=0.95):\n",
    "    a = 1.0 * np.array(data)\n",
    "    n = len(a)\n",
    "    m, se = np.mean(a), scipy.stats.sem(a)\n",
    "    h = se * scipy.stats.t.ppf((1 + confidence) / 2., n-1)\n",
    "    return m, m-h, m+h\n",
    "\n"
   ]
  },
  {
   "cell_type": "markdown",
   "id": "92ab48de",
   "metadata": {},
   "source": [
    "Посчитаем доверительные интервалы для ген.сов-ти, случайной выборки, страт. выборок. Для ген. Совокупности:"
   ]
  },
  {
   "cell_type": "code",
   "execution_count": 82,
   "id": "56ed31a9",
   "metadata": {},
   "outputs": [
    {
     "name": "stdout",
     "output_type": "stream",
     "text": [
      "95% :  (8.970993710691824, 8.299623622915329, 9.642363798468319)\n",
      "90% :  (8.970993710691824, 8.408580106128838, 9.53340731525481)\n",
      "99% :  (8.970993710691824, 8.084723276714875, 9.857264144668772)\n"
     ]
    }
   ],
   "source": [
    "print(\"95% : \", mean_confidence_interval(dt['Height'], confidence=0.95))\n",
    "print(\"90% : \", mean_confidence_interval(dt['Height'], confidence=0.9))\n",
    "print(\"99% : \", mean_confidence_interval(dt['Height'], confidence=0.99))"
   ]
  },
  {
   "cell_type": "markdown",
   "id": "81dbdadc",
   "metadata": {},
   "source": [
    "Для Случайной выборки:"
   ]
  },
  {
   "cell_type": "code",
   "execution_count": 83,
   "id": "1e6b1673",
   "metadata": {},
   "outputs": [
    {
     "name": "stdout",
     "output_type": "stream",
     "text": [
      "95% :  (9.292511538461538, 8.050137021840722, 10.534886055082353)\n",
      "90% :  (9.292511538461538, 8.255777050573041, 10.329246026350035)\n",
      "99% :  (9.292511538461538, 7.636665755115541, 10.948357321807535)\n"
     ]
    }
   ],
   "source": [
    "print(\"95% : \", mean_confidence_interval(smpl1['Height'], confidence=0.95))\n",
    "print(\"90% : \", mean_confidence_interval(smpl1['Height'], confidence=0.9))\n",
    "print(\"99% : \", mean_confidence_interval(smpl1['Height'], confidence=0.99))"
   ]
  },
  {
   "cell_type": "markdown",
   "id": "9e6e8552",
   "metadata": {},
   "source": [
    "Для рыб меньше 550 грамм:"
   ]
  },
  {
   "cell_type": "code",
   "execution_count": 84,
   "id": "eaa90f17",
   "metadata": {},
   "outputs": [
    {
     "name": "stdout",
     "output_type": "stream",
     "text": [
      "95% :  (7.058076576576576, 6.456371211843749, 7.659781941309403)\n",
      "90% :  (7.058076576576576, 6.5544228786686975, 7.561730274484454)\n",
      "99% :  (7.058076576576576, 6.262205868708261, 7.8539472844448905)\n"
     ]
    }
   ],
   "source": [
    "print(\"95% : \", mean_confidence_interval(less_550['Height'], confidence=0.95))\n",
    "print(\"90% : \", mean_confidence_interval(less_550['Height'], confidence=0.9))\n",
    "print(\"99% : \", mean_confidence_interval(less_550['Height'], confidence=0.99))"
   ]
  },
  {
   "cell_type": "markdown",
   "id": "7a081a97",
   "metadata": {},
   "source": [
    "Для раб больше 550 грамм"
   ]
  },
  {
   "cell_type": "code",
   "execution_count": 85,
   "id": "2f876877",
   "metadata": {},
   "outputs": [
    {
     "name": "stdout",
     "output_type": "stream",
     "text": [
      "95% :  (13.394614583333334, 12.51463257747053, 14.274596589196138)\n",
      "90% :  (13.394614583333334, 12.660650479240354, 14.128578687426314)\n",
      "99% :  (13.394614583333334, 12.220327628749034, 14.568901537917634)\n"
     ]
    }
   ],
   "source": [
    "print(\"95% : \", mean_confidence_interval(more_550['Height'], confidence=0.95))\n",
    "print(\"90% : \", mean_confidence_interval(more_550['Height'], confidence=0.9))\n",
    "print(\"99% : \", mean_confidence_interval(more_550['Height'], confidence=0.99))"
   ]
  },
  {
   "cell_type": "markdown",
   "id": "60de7b89",
   "metadata": {},
   "source": [
    "Вывод: Имеется положительная корреляция, поэтому можно наблюдать, что страт. выборк ощутимо отличаются друг от друга. Построена линейная регрессия для параметров рыбы. "
   ]
  }
 ],
 "metadata": {
  "kernelspec": {
   "display_name": "Python 3",
   "language": "python",
   "name": "python3"
  },
  "language_info": {
   "codemirror_mode": {
    "name": "ipython",
    "version": 3
   },
   "file_extension": ".py",
   "mimetype": "text/x-python",
   "name": "python",
   "nbconvert_exporter": "python",
   "pygments_lexer": "ipython3",
   "version": "3.8.8"
  }
 },
 "nbformat": 4,
 "nbformat_minor": 5
}
