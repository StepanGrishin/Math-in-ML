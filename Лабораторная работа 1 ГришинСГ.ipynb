{
 "cells": [
  {
   "cell_type": "markdown",
   "id": "a1df31bd",
   "metadata": {},
   "source": [
    "# Лабораторная работа 1. Выполнил Гришин Степан"
   ]
  },
  {
   "cell_type": "markdown",
   "id": "453ff0ae",
   "metadata": {},
   "source": [
    "# Нормальное несмещенное распределение"
   ]
  },
  {
   "cell_type": "markdown",
   "id": "27b2857e",
   "metadata": {},
   "source": [
    "Подключаем библиотеки"
   ]
  },
  {
   "cell_type": "code",
   "execution_count": 1,
   "id": "9f9bc16a",
   "metadata": {},
   "outputs": [],
   "source": [
    "import pandas as pd\n",
    "from matplotlib.pyplot import plot\n",
    "import seaborn as sns\n",
    "import scipy"
   ]
  },
  {
   "cell_type": "markdown",
   "id": "54e53cd0",
   "metadata": {},
   "source": [
    "Загружаем данные"
   ]
  },
  {
   "cell_type": "code",
   "execution_count": 2,
   "id": "bd4af0c8",
   "metadata": {},
   "outputs": [],
   "source": [
    "data = pd.read_csv('Desktop/customer_churn_data.csv')"
   ]
  },
  {
   "cell_type": "code",
   "execution_count": 3,
   "id": "f2e6056a",
   "metadata": {},
   "outputs": [
    {
     "data": {
      "text/html": [
       "<div>\n",
       "<style scoped>\n",
       "    .dataframe tbody tr th:only-of-type {\n",
       "        vertical-align: middle;\n",
       "    }\n",
       "\n",
       "    .dataframe tbody tr th {\n",
       "        vertical-align: top;\n",
       "    }\n",
       "\n",
       "    .dataframe thead th {\n",
       "        text-align: right;\n",
       "    }\n",
       "</style>\n",
       "<table border=\"1\" class=\"dataframe\">\n",
       "  <thead>\n",
       "    <tr style=\"text-align: right;\">\n",
       "      <th></th>\n",
       "      <th>CustomerID</th>\n",
       "      <th>Age</th>\n",
       "      <th>Gender</th>\n",
       "      <th>Tenure</th>\n",
       "      <th>MonthlyCharges</th>\n",
       "      <th>ContractType</th>\n",
       "      <th>InternetService</th>\n",
       "      <th>TotalCharges</th>\n",
       "      <th>TechSupport</th>\n",
       "      <th>Churn</th>\n",
       "    </tr>\n",
       "  </thead>\n",
       "  <tbody>\n",
       "    <tr>\n",
       "      <th>0</th>\n",
       "      <td>1</td>\n",
       "      <td>49</td>\n",
       "      <td>Male</td>\n",
       "      <td>4</td>\n",
       "      <td>88.35</td>\n",
       "      <td>Month-to-Month</td>\n",
       "      <td>Fiber Optic</td>\n",
       "      <td>353.40</td>\n",
       "      <td>Yes</td>\n",
       "      <td>Yes</td>\n",
       "    </tr>\n",
       "    <tr>\n",
       "      <th>1</th>\n",
       "      <td>2</td>\n",
       "      <td>43</td>\n",
       "      <td>Male</td>\n",
       "      <td>0</td>\n",
       "      <td>36.67</td>\n",
       "      <td>Month-to-Month</td>\n",
       "      <td>Fiber Optic</td>\n",
       "      <td>0.00</td>\n",
       "      <td>Yes</td>\n",
       "      <td>Yes</td>\n",
       "    </tr>\n",
       "    <tr>\n",
       "      <th>2</th>\n",
       "      <td>3</td>\n",
       "      <td>51</td>\n",
       "      <td>Female</td>\n",
       "      <td>2</td>\n",
       "      <td>63.79</td>\n",
       "      <td>Month-to-Month</td>\n",
       "      <td>Fiber Optic</td>\n",
       "      <td>127.58</td>\n",
       "      <td>No</td>\n",
       "      <td>Yes</td>\n",
       "    </tr>\n",
       "    <tr>\n",
       "      <th>3</th>\n",
       "      <td>4</td>\n",
       "      <td>60</td>\n",
       "      <td>Female</td>\n",
       "      <td>8</td>\n",
       "      <td>102.34</td>\n",
       "      <td>One-Year</td>\n",
       "      <td>DSL</td>\n",
       "      <td>818.72</td>\n",
       "      <td>Yes</td>\n",
       "      <td>Yes</td>\n",
       "    </tr>\n",
       "    <tr>\n",
       "      <th>4</th>\n",
       "      <td>5</td>\n",
       "      <td>42</td>\n",
       "      <td>Male</td>\n",
       "      <td>32</td>\n",
       "      <td>69.01</td>\n",
       "      <td>Month-to-Month</td>\n",
       "      <td>None</td>\n",
       "      <td>2208.32</td>\n",
       "      <td>No</td>\n",
       "      <td>Yes</td>\n",
       "    </tr>\n",
       "    <tr>\n",
       "      <th>...</th>\n",
       "      <td>...</td>\n",
       "      <td>...</td>\n",
       "      <td>...</td>\n",
       "      <td>...</td>\n",
       "      <td>...</td>\n",
       "      <td>...</td>\n",
       "      <td>...</td>\n",
       "      <td>...</td>\n",
       "      <td>...</td>\n",
       "      <td>...</td>\n",
       "    </tr>\n",
       "    <tr>\n",
       "      <th>995</th>\n",
       "      <td>996</td>\n",
       "      <td>42</td>\n",
       "      <td>Male</td>\n",
       "      <td>41</td>\n",
       "      <td>37.14</td>\n",
       "      <td>Month-to-Month</td>\n",
       "      <td>Fiber Optic</td>\n",
       "      <td>1522.74</td>\n",
       "      <td>Yes</td>\n",
       "      <td>Yes</td>\n",
       "    </tr>\n",
       "    <tr>\n",
       "      <th>996</th>\n",
       "      <td>997</td>\n",
       "      <td>62</td>\n",
       "      <td>Male</td>\n",
       "      <td>9</td>\n",
       "      <td>80.93</td>\n",
       "      <td>Month-to-Month</td>\n",
       "      <td>None</td>\n",
       "      <td>728.37</td>\n",
       "      <td>No</td>\n",
       "      <td>Yes</td>\n",
       "    </tr>\n",
       "    <tr>\n",
       "      <th>997</th>\n",
       "      <td>998</td>\n",
       "      <td>51</td>\n",
       "      <td>Female</td>\n",
       "      <td>15</td>\n",
       "      <td>111.72</td>\n",
       "      <td>Month-to-Month</td>\n",
       "      <td>Fiber Optic</td>\n",
       "      <td>1675.80</td>\n",
       "      <td>Yes</td>\n",
       "      <td>Yes</td>\n",
       "    </tr>\n",
       "    <tr>\n",
       "      <th>998</th>\n",
       "      <td>999</td>\n",
       "      <td>39</td>\n",
       "      <td>Male</td>\n",
       "      <td>68</td>\n",
       "      <td>65.67</td>\n",
       "      <td>One-Year</td>\n",
       "      <td>None</td>\n",
       "      <td>4465.56</td>\n",
       "      <td>No</td>\n",
       "      <td>Yes</td>\n",
       "    </tr>\n",
       "    <tr>\n",
       "      <th>999</th>\n",
       "      <td>1000</td>\n",
       "      <td>50</td>\n",
       "      <td>Male</td>\n",
       "      <td>1</td>\n",
       "      <td>56.67</td>\n",
       "      <td>Month-to-Month</td>\n",
       "      <td>None</td>\n",
       "      <td>56.67</td>\n",
       "      <td>No</td>\n",
       "      <td>Yes</td>\n",
       "    </tr>\n",
       "  </tbody>\n",
       "</table>\n",
       "<p>1000 rows × 10 columns</p>\n",
       "</div>"
      ],
      "text/plain": [
       "     CustomerID  Age  Gender  Tenure  MonthlyCharges    ContractType  \\\n",
       "0             1   49    Male       4           88.35  Month-to-Month   \n",
       "1             2   43    Male       0           36.67  Month-to-Month   \n",
       "2             3   51  Female       2           63.79  Month-to-Month   \n",
       "3             4   60  Female       8          102.34        One-Year   \n",
       "4             5   42    Male      32           69.01  Month-to-Month   \n",
       "..          ...  ...     ...     ...             ...             ...   \n",
       "995         996   42    Male      41           37.14  Month-to-Month   \n",
       "996         997   62    Male       9           80.93  Month-to-Month   \n",
       "997         998   51  Female      15          111.72  Month-to-Month   \n",
       "998         999   39    Male      68           65.67        One-Year   \n",
       "999        1000   50    Male       1           56.67  Month-to-Month   \n",
       "\n",
       "    InternetService  TotalCharges TechSupport Churn  \n",
       "0       Fiber Optic        353.40         Yes   Yes  \n",
       "1       Fiber Optic          0.00         Yes   Yes  \n",
       "2       Fiber Optic        127.58          No   Yes  \n",
       "3               DSL        818.72         Yes   Yes  \n",
       "4              None       2208.32          No   Yes  \n",
       "..              ...           ...         ...   ...  \n",
       "995     Fiber Optic       1522.74         Yes   Yes  \n",
       "996            None        728.37          No   Yes  \n",
       "997     Fiber Optic       1675.80         Yes   Yes  \n",
       "998            None       4465.56          No   Yes  \n",
       "999            None         56.67          No   Yes  \n",
       "\n",
       "[1000 rows x 10 columns]"
      ]
     },
     "execution_count": 3,
     "metadata": {},
     "output_type": "execute_result"
    }
   ],
   "source": [
    "data"
   ]
  },
  {
   "cell_type": "markdown",
   "id": "6c1ad795",
   "metadata": {},
   "source": [
    "Посмотрим общую информацию о датафрейме"
   ]
  },
  {
   "cell_type": "code",
   "execution_count": 4,
   "id": "30abf6d5",
   "metadata": {},
   "outputs": [
    {
     "name": "stdout",
     "output_type": "stream",
     "text": [
      "<class 'pandas.core.frame.DataFrame'>\n",
      "RangeIndex: 1000 entries, 0 to 999\n",
      "Data columns (total 10 columns):\n",
      " #   Column           Non-Null Count  Dtype  \n",
      "---  ------           --------------  -----  \n",
      " 0   CustomerID       1000 non-null   int64  \n",
      " 1   Age              1000 non-null   int64  \n",
      " 2   Gender           1000 non-null   object \n",
      " 3   Tenure           1000 non-null   int64  \n",
      " 4   MonthlyCharges   1000 non-null   float64\n",
      " 5   ContractType     1000 non-null   object \n",
      " 6   InternetService  1000 non-null   object \n",
      " 7   TotalCharges     1000 non-null   float64\n",
      " 8   TechSupport      1000 non-null   object \n",
      " 9   Churn            1000 non-null   object \n",
      "dtypes: float64(2), int64(3), object(5)\n",
      "memory usage: 78.2+ KB\n"
     ]
    }
   ],
   "source": [
    "data.info()"
   ]
  },
  {
   "cell_type": "markdown",
   "id": "6c394bdd",
   "metadata": {},
   "source": [
    "Видим, что пустых значений нет, все типы данных соответствуют значениям. Построим распределение возрастов людей, результат проверим."
   ]
  },
  {
   "cell_type": "code",
   "execution_count": 5,
   "id": "734f24fc",
   "metadata": {},
   "outputs": [
    {
     "data": {
      "text/plain": [
       "<AxesSubplot:xlabel='Age', ylabel='Count'>"
      ]
     },
     "execution_count": 5,
     "metadata": {},
     "output_type": "execute_result"
    },
    {
     "data": {
      "image/png": "[encoded data removed]",
      "text/plain": [
       "<Figure size 432x288 with 1 Axes>"
      ]
     },
     "metadata": {
      "needs_background": "light"
     },
     "output_type": "display_data"
    }
   ],
   "source": [
    "ax = sns.histplot(data, x = \"Age\", kde=True)\n",
    "ax"
   ]
  },
  {
   "cell_type": "markdown",
   "id": "a382c644",
   "metadata": {},
   "source": [
    "Видим что то похожее на нормальное распределение."
   ]
  },
  {
   "cell_type": "code",
   "execution_count": 6,
   "id": "4f129d8d",
   "metadata": {},
   "outputs": [
    {
     "data": {
      "text/plain": [
       "ShapiroResult(statistic=0.9978264570236206, pvalue=0.21738040447235107)"
      ]
     },
     "execution_count": 6,
     "metadata": {},
     "output_type": "execute_result"
    }
   ],
   "source": [
    "p = scipy.stats.shapiro(data['Age'])# проведем тест Шапиро-Уилка на нормальность распределения\n",
    "p"
   ]
  },
  {
   "cell_type": "markdown",
   "id": "2575945f",
   "metadata": {},
   "source": [
    "При доверительной вероятности > 5% и имеющимся pvalue = 21%, мы не сможем отвергнуть гипотезу о том, что распределение не нормальное, в таком случае, есть основания принять гипотезу о том, что распределение нормальное."
   ]
  },
  {
   "cell_type": "code",
   "execution_count": 7,
   "id": "c95128d6",
   "metadata": {},
   "outputs": [
    {
     "data": {
      "text/html": [
       "<div>\n",
       "<style scoped>\n",
       "    .dataframe tbody tr th:only-of-type {\n",
       "        vertical-align: middle;\n",
       "    }\n",
       "\n",
       "    .dataframe tbody tr th {\n",
       "        vertical-align: top;\n",
       "    }\n",
       "\n",
       "    .dataframe thead th {\n",
       "        text-align: right;\n",
       "    }\n",
       "</style>\n",
       "<table border=\"1\" class=\"dataframe\">\n",
       "  <thead>\n",
       "    <tr style=\"text-align: right;\">\n",
       "      <th></th>\n",
       "      <th>CustomerID</th>\n",
       "      <th>Age</th>\n",
       "      <th>Tenure</th>\n",
       "      <th>MonthlyCharges</th>\n",
       "      <th>TotalCharges</th>\n",
       "    </tr>\n",
       "  </thead>\n",
       "  <tbody>\n",
       "    <tr>\n",
       "      <th>count</th>\n",
       "      <td>1000.000000</td>\n",
       "      <td>1000.000000</td>\n",
       "      <td>1000.00000</td>\n",
       "      <td>1000.000000</td>\n",
       "      <td>1000.000000</td>\n",
       "    </tr>\n",
       "    <tr>\n",
       "      <th>mean</th>\n",
       "      <td>500.500000</td>\n",
       "      <td>44.674000</td>\n",
       "      <td>18.97300</td>\n",
       "      <td>74.391290</td>\n",
       "      <td>1404.364060</td>\n",
       "    </tr>\n",
       "    <tr>\n",
       "      <th>std</th>\n",
       "      <td>288.819436</td>\n",
       "      <td>9.797741</td>\n",
       "      <td>18.89257</td>\n",
       "      <td>25.712083</td>\n",
       "      <td>1571.755048</td>\n",
       "    </tr>\n",
       "    <tr>\n",
       "      <th>min</th>\n",
       "      <td>1.000000</td>\n",
       "      <td>12.000000</td>\n",
       "      <td>0.00000</td>\n",
       "      <td>30.000000</td>\n",
       "      <td>0.000000</td>\n",
       "    </tr>\n",
       "    <tr>\n",
       "      <th>25%</th>\n",
       "      <td>250.750000</td>\n",
       "      <td>38.000000</td>\n",
       "      <td>5.00000</td>\n",
       "      <td>52.357500</td>\n",
       "      <td>345.217500</td>\n",
       "    </tr>\n",
       "    <tr>\n",
       "      <th>50%</th>\n",
       "      <td>500.500000</td>\n",
       "      <td>45.000000</td>\n",
       "      <td>13.00000</td>\n",
       "      <td>74.060000</td>\n",
       "      <td>872.870000</td>\n",
       "    </tr>\n",
       "    <tr>\n",
       "      <th>75%</th>\n",
       "      <td>750.250000</td>\n",
       "      <td>51.000000</td>\n",
       "      <td>26.00000</td>\n",
       "      <td>96.102500</td>\n",
       "      <td>1900.175000</td>\n",
       "    </tr>\n",
       "    <tr>\n",
       "      <th>max</th>\n",
       "      <td>1000.000000</td>\n",
       "      <td>83.000000</td>\n",
       "      <td>122.00000</td>\n",
       "      <td>119.960000</td>\n",
       "      <td>12416.250000</td>\n",
       "    </tr>\n",
       "  </tbody>\n",
       "</table>\n",
       "</div>"
      ],
      "text/plain": [
       "        CustomerID          Age      Tenure  MonthlyCharges  TotalCharges\n",
       "count  1000.000000  1000.000000  1000.00000     1000.000000   1000.000000\n",
       "mean    500.500000    44.674000    18.97300       74.391290   1404.364060\n",
       "std     288.819436     9.797741    18.89257       25.712083   1571.755048\n",
       "min       1.000000    12.000000     0.00000       30.000000      0.000000\n",
       "25%     250.750000    38.000000     5.00000       52.357500    345.217500\n",
       "50%     500.500000    45.000000    13.00000       74.060000    872.870000\n",
       "75%     750.250000    51.000000    26.00000       96.102500   1900.175000\n",
       "max    1000.000000    83.000000   122.00000      119.960000  12416.250000"
      ]
     },
     "execution_count": 7,
     "metadata": {},
     "output_type": "execute_result"
    }
   ],
   "source": [
    "data.describe()"
   ]
  },
  {
   "cell_type": "markdown",
   "id": "c7504794",
   "metadata": {},
   "source": [
    "Посмотрим на характеристики данного распределения."
   ]
  },
  {
   "cell_type": "code",
   "execution_count": 8,
   "id": "1450e967",
   "metadata": {},
   "outputs": [
    {
     "name": "stdout",
     "output_type": "stream",
     "text": [
      "Медиана равна  45.0\n",
      "Среднее равно  44.674\n",
      "Смещение равно  0.11059849403246863\n"
     ]
    }
   ],
   "source": [
    "print(\"Медиана равна \", data['Age'].median())\n",
    "print(\"Среднее равно \", data['Age'].mean())\n",
    "print(\"Смещение равно \", data['Age'].skew())\n",
    "mod = data['Age'].mode()[0]\n",
    "mn = data['Age'].mean()\n",
    "med = data['Age'].median()"
   ]
  },
  {
   "cell_type": "code",
   "execution_count": 19,
   "id": "a82ada93",
   "metadata": {},
   "outputs": [
    {
     "data": {
      "text/plain": [
       "<matplotlib.legend.Legend at 0x1645a329fd0>"
      ]
     },
     "execution_count": 19,
     "metadata": {},
     "output_type": "execute_result"
    },
    {
     "data": {
      "image/png": "[encoded data removed]",
      "text/plain": [
       "<Figure size 936x1152 with 1 Axes>"
      ]
     },
     "metadata": {},
     "output_type": "display_data"
    }
   ],
   "source": [
    "ax = sns.histplot(data, x = \"Age\", kde=True, bins = 50 )\n",
    "ax.axvline(data['Age'].mean(), color='r', linestyle='--', label=f'Mean: {mn:.2f}')\n",
    "ax.axvline(data['Age'].median(), color='g', linestyle='--', label=f'Median: {med:.2f}')\n",
    "ax.axvline(data['Age'].mode()[0], color='b', linestyle='--', label=f'Mode: {mod:.2f}')\n",
    "sns.set_theme(rc={'figure.figsize':(13,16)})\n",
    "ax.legend()"
   ]
  },
  {
   "cell_type": "markdown",
   "id": "4f12c637",
   "metadata": {},
   "source": [
    "Видим, что среднее очень близко к медиане, это говорит о том, что распределения несмещено. Посмотрим сдвиг медианы от среднего относительно к размаху"
   ]
  },
  {
   "cell_type": "code",
   "execution_count": 10,
   "id": "ff4ba536",
   "metadata": {},
   "outputs": [
    {
     "name": "stdout",
     "output_type": "stream",
     "text": [
      "Смещение равно  0.4591549295774655 %\n"
     ]
    }
   ],
   "source": [
    "print(\"Смещение равно \", 100*abs(data['Age'].median() - data['Age'].mean())/(data['Age'].max() - data['Age'].min()), \"%\" )"
   ]
  },
  {
   "cell_type": "markdown",
   "id": "d6655f52",
   "metadata": {},
   "source": [
    "# Равномерное распределение"
   ]
  },
  {
   "cell_type": "code",
   "execution_count": 11,
   "id": "e9b6c43a",
   "metadata": {},
   "outputs": [],
   "source": [
    "dt = pd.read_csv('Desktop/crop_yield.csv')"
   ]
  },
  {
   "cell_type": "code",
   "execution_count": 12,
   "id": "8d62e0a2",
   "metadata": {},
   "outputs": [
    {
     "data": {
      "text/plain": [
       "<AxesSubplot:xlabel='Temperature_Celsius', ylabel='Count'>"
      ]
     },
     "execution_count": 12,
     "metadata": {},
     "output_type": "execute_result"
    },
    {
     "data": {
      "image/png": "[encoded data removed]",
      "text/plain": [
       "<Figure size 936x1152 with 1 Axes>"
      ]
     },
     "metadata": {},
     "output_type": "display_data"
    }
   ],
   "source": [
    "sns.histplot(dt, x = 'Temperature_Celsius')"
   ]
  },
  {
   "cell_type": "code",
   "execution_count": 13,
   "id": "558cfc29",
   "metadata": {},
   "outputs": [
    {
     "data": {
      "text/plain": [
       "count    1000000.000000\n",
       "mean          27.504965\n",
       "std            7.220608\n",
       "min           15.000034\n",
       "25%           21.254502\n",
       "50%           27.507365\n",
       "75%           33.753267\n",
       "max           39.999997\n",
       "Name: Temperature_Celsius, dtype: float64"
      ]
     },
     "execution_count": 13,
     "metadata": {},
     "output_type": "execute_result"
    }
   ],
   "source": [
    "dt['Temperature_Celsius'].describe()"
   ]
  },
  {
   "cell_type": "markdown",
   "id": "ec149d51",
   "metadata": {},
   "source": [
    "Видим, что медиана почти равна среднему? что справедливо."
   ]
  },
  {
   "cell_type": "markdown",
   "id": "c71f6db3",
   "metadata": {},
   "source": [
    "# Нормальное смещенное"
   ]
  },
  {
   "cell_type": "code",
   "execution_count": 14,
   "id": "ab032bc4",
   "metadata": {},
   "outputs": [],
   "source": [
    "dt1 = pd.read_csv(\"Desktop/remote_work_productivity.csv\")"
   ]
  },
  {
   "cell_type": "code",
   "execution_count": 15,
   "id": "c9675b28",
   "metadata": {},
   "outputs": [
    {
     "data": {
      "text/html": [
       "<div>\n",
       "<style scoped>\n",
       "    .dataframe tbody tr th:only-of-type {\n",
       "        vertical-align: middle;\n",
       "    }\n",
       "\n",
       "    .dataframe tbody tr th {\n",
       "        vertical-align: top;\n",
       "    }\n",
       "\n",
       "    .dataframe thead th {\n",
       "        text-align: right;\n",
       "    }\n",
       "</style>\n",
       "<table border=\"1\" class=\"dataframe\">\n",
       "  <thead>\n",
       "    <tr style=\"text-align: right;\">\n",
       "      <th></th>\n",
       "      <th>Employee_ID</th>\n",
       "      <th>Employment_Type</th>\n",
       "      <th>Hours_Worked_Per_Week</th>\n",
       "      <th>Productivity_Score</th>\n",
       "      <th>Well_Being_Score</th>\n",
       "    </tr>\n",
       "  </thead>\n",
       "  <tbody>\n",
       "    <tr>\n",
       "      <th>0</th>\n",
       "      <td>1</td>\n",
       "      <td>Remote</td>\n",
       "      <td>29</td>\n",
       "      <td>75</td>\n",
       "      <td>78</td>\n",
       "    </tr>\n",
       "    <tr>\n",
       "      <th>1</th>\n",
       "      <td>2</td>\n",
       "      <td>In-Office</td>\n",
       "      <td>45</td>\n",
       "      <td>49</td>\n",
       "      <td>47</td>\n",
       "    </tr>\n",
       "    <tr>\n",
       "      <th>2</th>\n",
       "      <td>3</td>\n",
       "      <td>Remote</td>\n",
       "      <td>34</td>\n",
       "      <td>74</td>\n",
       "      <td>89</td>\n",
       "    </tr>\n",
       "    <tr>\n",
       "      <th>3</th>\n",
       "      <td>4</td>\n",
       "      <td>Remote</td>\n",
       "      <td>25</td>\n",
       "      <td>81</td>\n",
       "      <td>84</td>\n",
       "    </tr>\n",
       "    <tr>\n",
       "      <th>4</th>\n",
       "      <td>5</td>\n",
       "      <td>Remote</td>\n",
       "      <td>50</td>\n",
       "      <td>70</td>\n",
       "      <td>74</td>\n",
       "    </tr>\n",
       "    <tr>\n",
       "      <th>...</th>\n",
       "      <td>...</td>\n",
       "      <td>...</td>\n",
       "      <td>...</td>\n",
       "      <td>...</td>\n",
       "      <td>...</td>\n",
       "    </tr>\n",
       "    <tr>\n",
       "      <th>995</th>\n",
       "      <td>996</td>\n",
       "      <td>Remote</td>\n",
       "      <td>33</td>\n",
       "      <td>88</td>\n",
       "      <td>82</td>\n",
       "    </tr>\n",
       "    <tr>\n",
       "      <th>996</th>\n",
       "      <td>997</td>\n",
       "      <td>Remote</td>\n",
       "      <td>33</td>\n",
       "      <td>88</td>\n",
       "      <td>73</td>\n",
       "    </tr>\n",
       "    <tr>\n",
       "      <th>997</th>\n",
       "      <td>998</td>\n",
       "      <td>In-Office</td>\n",
       "      <td>45</td>\n",
       "      <td>74</td>\n",
       "      <td>61</td>\n",
       "    </tr>\n",
       "    <tr>\n",
       "      <th>998</th>\n",
       "      <td>999</td>\n",
       "      <td>In-Office</td>\n",
       "      <td>57</td>\n",
       "      <td>50</td>\n",
       "      <td>52</td>\n",
       "    </tr>\n",
       "    <tr>\n",
       "      <th>999</th>\n",
       "      <td>1000</td>\n",
       "      <td>Remote</td>\n",
       "      <td>34</td>\n",
       "      <td>80</td>\n",
       "      <td>82</td>\n",
       "    </tr>\n",
       "  </tbody>\n",
       "</table>\n",
       "<p>1000 rows × 5 columns</p>\n",
       "</div>"
      ],
      "text/plain": [
       "     Employee_ID Employment_Type  Hours_Worked_Per_Week  Productivity_Score  \\\n",
       "0              1          Remote                     29                  75   \n",
       "1              2       In-Office                     45                  49   \n",
       "2              3          Remote                     34                  74   \n",
       "3              4          Remote                     25                  81   \n",
       "4              5          Remote                     50                  70   \n",
       "..           ...             ...                    ...                 ...   \n",
       "995          996          Remote                     33                  88   \n",
       "996          997          Remote                     33                  88   \n",
       "997          998       In-Office                     45                  74   \n",
       "998          999       In-Office                     57                  50   \n",
       "999         1000          Remote                     34                  80   \n",
       "\n",
       "     Well_Being_Score  \n",
       "0                  78  \n",
       "1                  47  \n",
       "2                  89  \n",
       "3                  84  \n",
       "4                  74  \n",
       "..                ...  \n",
       "995                82  \n",
       "996                73  \n",
       "997                61  \n",
       "998                52  \n",
       "999                82  \n",
       "\n",
       "[1000 rows x 5 columns]"
      ]
     },
     "execution_count": 15,
     "metadata": {},
     "output_type": "execute_result"
    }
   ],
   "source": [
    "dt1"
   ]
  },
  {
   "cell_type": "markdown",
   "id": "a0d1415e",
   "metadata": {},
   "source": [
    "Распределение со смещением"
   ]
  },
  {
   "cell_type": "code",
   "execution_count": 16,
   "id": "564cc1e4",
   "metadata": {},
   "outputs": [
    {
     "data": {
      "text/plain": [
       "<matplotlib.legend.Legend at 0x1645a486700>"
      ]
     },
     "execution_count": 16,
     "metadata": {},
     "output_type": "execute_result"
    },
    {
     "data": {
      "image/png": "[encoded data removed]",
      "text/plain": [
       "<Figure size 936x1152 with 1 Axes>"
      ]
     },
     "metadata": {},
     "output_type": "display_data"
    }
   ],
   "source": [
    "ax = sns.histplot(dt1,x = 'Well_Being_Score', kde = True, bins = 50 )\n",
    "mn = dt1['Well_Being_Score'].mean()\n",
    "md = dt1['Well_Being_Score'].median()\n",
    "mod = dt1['Well_Being_Score'].mode()[0]\n",
    "ax.axvline(dt1['Well_Being_Score'].mean(), color='r', linestyle='--', label=f'Mean: {mn:.2f}')\n",
    "ax.axvline(dt1['Well_Being_Score'].median(), color='g', linestyle='--', label=f'Median: {md:.2f}')\n",
    "ax.axvline(dt1['Well_Being_Score'].mode()[0], color='b', linestyle='--', label=f'Mode: {mod:.2f}')\n",
    "sns.set_theme(rc={'figure.figsize':(13,16)})\n",
    "ax.legend()"
   ]
  },
  {
   "cell_type": "markdown",
   "id": "c8de81b4",
   "metadata": {},
   "source": [
    "Сдвиг будет равен"
   ]
  },
  {
   "cell_type": "code",
   "execution_count": 17,
   "id": "fb4a38f0",
   "metadata": {},
   "outputs": [
    {
     "data": {
      "text/plain": [
       "0.11059849403246863"
      ]
     },
     "execution_count": 17,
     "metadata": {},
     "output_type": "execute_result"
    }
   ],
   "source": [
    "data['Age'].skew()"
   ]
  },
  {
   "cell_type": "markdown",
   "id": "f57d2a1c",
   "metadata": {},
   "source": [
    "# Выбросы"
   ]
  },
  {
   "cell_type": "code",
   "execution_count": 18,
   "id": "8706dc10",
   "metadata": {},
   "outputs": [
    {
     "data": {
      "text/plain": [
       "<AxesSubplot:>"
      ]
     },
     "execution_count": 18,
     "metadata": {},
     "output_type": "execute_result"
    },
    {
     "data": {
      "image/png": "[encoded data removed]",
      "text/plain": [
       "<Figure size 936x1152 with 1 Axes>"
      ]
     },
     "metadata": {},
     "output_type": "display_data"
    }
   ],
   "source": [
    "data.boxplot('Age')"
   ]
  },
  {
   "cell_type": "markdown",
   "id": "6ea6d3a3",
   "metadata": {},
   "source": [
    "Итак, мы видим выбросы в виде людей возраста за 70 лет и до 20. В данном случае, датафрей отражает обращения людей в маркетинговое агентство. Трудно представить причину, по которой люди за 70 лет будут обращаться в маркетинговое агентство. Аналогично с людьми до 20 лет. Полагаю, что в некоторых случаях операторы могет сделать ошибку при заполнении личного дела клиента и вбить не тот возраст, но это одна из гипотез. Возможно, люди случайно ошибались номером и звонили в маркетинговое агентство, но тогда не должно было существовать личного дела таких людей, так как звонок был случаен. Можно найти номера всех входящих звонков за последнее время и, если номера нет в базе клиентов, то либо человек ошибся номером (но операторы почему то указали его номер как полезный входящий и указали количество лет), либо это сорвавшийся клиент. Впрочем, нужно исходить из имеющихся данных."
   ]
  },
  {
   "cell_type": "code",
   "execution_count": null,
   "id": "b52afa67",
   "metadata": {},
   "outputs": [],
   "source": []
  }
 ],
 "metadata": {
  "kernelspec": {
   "display_name": "Python 3",
   "language": "python",
   "name": "python3"
  },
  "language_info": {
   "codemirror_mode": {
    "name": "ipython",
    "version": 3
   },
   "file_extension": ".py",
   "mimetype": "text/x-python",
   "name": "python",
   "nbconvert_exporter": "python",
   "pygments_lexer": "ipython3",
   "version": "3.8.8"
  }
 },
 "nbformat": 4,
 "nbformat_minor": 5
}
